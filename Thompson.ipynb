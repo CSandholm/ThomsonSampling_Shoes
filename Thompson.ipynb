{
 "cells": [
  {
   "cell_type": "markdown",
   "id": "d8cdf6b9",
   "metadata": {},
   "source": [
    "# Thomson sampling on different Brands"
   ]
  },
  {
   "cell_type": "markdown",
   "id": "ac3ef81d",
   "metadata": {},
   "source": [
    "A shoe company is interested in seeing which brands are most popular before launching one\n",
    "new store. Today there are many brands that do not sell very well. We were asked to do an analysis of 10 different brands via a market analysis on the internet, where we register the number of clicks."
   ]
  },
  {
   "cell_type": "markdown",
   "id": "b808311d",
   "metadata": {},
   "source": [
    "### Import libraries"
   ]
  },
  {
   "cell_type": "code",
   "execution_count": 1,
   "id": "db1849ad",
   "metadata": {},
   "outputs": [],
   "source": [
    "import numpy as np\n",
    "import matplotlib.pyplot as plt\n",
    "import pandas as pd\n",
    "import random"
   ]
  },
  {
   "cell_type": "markdown",
   "id": "09817c00",
   "metadata": {},
   "source": [
    "### Importing the dataset Brands"
   ]
  },
  {
   "cell_type": "markdown",
   "id": "b8f1f591",
   "metadata": {},
   "source": [
    "List all csv files only from folder"
   ]
  },
  {
   "cell_type": "code",
   "execution_count": 2,
   "id": "17b799a9",
   "metadata": {},
   "outputs": [
    {
     "data": {
      "text/plain": [
       "['MOCK_DATA (1).csv',\n",
       " 'MOCK_DATA (10).csv',\n",
       " 'MOCK_DATA (2).csv',\n",
       " 'MOCK_DATA (3).csv',\n",
       " 'MOCK_DATA (4).csv',\n",
       " 'MOCK_DATA (5).csv',\n",
       " 'MOCK_DATA (6).csv',\n",
       " 'MOCK_DATA (7).csv',\n",
       " 'MOCK_DATA (8).csv',\n",
       " 'MOCK_DATA (9).csv']"
      ]
     },
     "execution_count": 2,
     "metadata": {},
     "output_type": "execute_result"
    }
   ],
   "source": [
    "import glob\n",
    " \n",
    "csv_files = glob.glob('*.{}'.format('csv'))\n",
    "csv_files"
   ]
  },
  {
   "cell_type": "code",
   "execution_count": 3,
   "id": "da61300e",
   "metadata": {},
   "outputs": [
    {
     "data": {
      "text/html": [
       "<div>\n",
       "<style scoped>\n",
       "    .dataframe tbody tr th:only-of-type {\n",
       "        vertical-align: middle;\n",
       "    }\n",
       "\n",
       "    .dataframe tbody tr th {\n",
       "        vertical-align: top;\n",
       "    }\n",
       "\n",
       "    .dataframe thead th {\n",
       "        text-align: right;\n",
       "    }\n",
       "</style>\n",
       "<table border=\"1\" class=\"dataframe\">\n",
       "  <thead>\n",
       "    <tr style=\"text-align: right;\">\n",
       "      <th></th>\n",
       "      <th>Brand_1</th>\n",
       "      <th>Brand_2</th>\n",
       "      <th>Brand_3</th>\n",
       "      <th>Brand_4</th>\n",
       "      <th>Brand_5</th>\n",
       "      <th>Brand_6</th>\n",
       "      <th>Brand_7</th>\n",
       "      <th>Brand_8</th>\n",
       "      <th>Brand_9</th>\n",
       "      <th>Brand_10</th>\n",
       "    </tr>\n",
       "  </thead>\n",
       "  <tbody>\n",
       "    <tr>\n",
       "      <th>0</th>\n",
       "      <td>0</td>\n",
       "      <td>1</td>\n",
       "      <td>0</td>\n",
       "      <td>0</td>\n",
       "      <td>0</td>\n",
       "      <td>1</td>\n",
       "      <td>0</td>\n",
       "      <td>0</td>\n",
       "      <td>0</td>\n",
       "      <td>1</td>\n",
       "    </tr>\n",
       "    <tr>\n",
       "      <th>1</th>\n",
       "      <td>0</td>\n",
       "      <td>1</td>\n",
       "      <td>0</td>\n",
       "      <td>0</td>\n",
       "      <td>1</td>\n",
       "      <td>0</td>\n",
       "      <td>0</td>\n",
       "      <td>0</td>\n",
       "      <td>0</td>\n",
       "      <td>0</td>\n",
       "    </tr>\n",
       "    <tr>\n",
       "      <th>2</th>\n",
       "      <td>0</td>\n",
       "      <td>0</td>\n",
       "      <td>0</td>\n",
       "      <td>1</td>\n",
       "      <td>0</td>\n",
       "      <td>1</td>\n",
       "      <td>0</td>\n",
       "      <td>0</td>\n",
       "      <td>1</td>\n",
       "      <td>0</td>\n",
       "    </tr>\n",
       "    <tr>\n",
       "      <th>3</th>\n",
       "      <td>0</td>\n",
       "      <td>0</td>\n",
       "      <td>1</td>\n",
       "      <td>0</td>\n",
       "      <td>0</td>\n",
       "      <td>0</td>\n",
       "      <td>0</td>\n",
       "      <td>0</td>\n",
       "      <td>1</td>\n",
       "      <td>1</td>\n",
       "    </tr>\n",
       "    <tr>\n",
       "      <th>4</th>\n",
       "      <td>0</td>\n",
       "      <td>0</td>\n",
       "      <td>1</td>\n",
       "      <td>1</td>\n",
       "      <td>1</td>\n",
       "      <td>0</td>\n",
       "      <td>0</td>\n",
       "      <td>0</td>\n",
       "      <td>0</td>\n",
       "      <td>1</td>\n",
       "    </tr>\n",
       "    <tr>\n",
       "      <th>...</th>\n",
       "      <td>...</td>\n",
       "      <td>...</td>\n",
       "      <td>...</td>\n",
       "      <td>...</td>\n",
       "      <td>...</td>\n",
       "      <td>...</td>\n",
       "      <td>...</td>\n",
       "      <td>...</td>\n",
       "      <td>...</td>\n",
       "      <td>...</td>\n",
       "    </tr>\n",
       "    <tr>\n",
       "      <th>9995</th>\n",
       "      <td>1</td>\n",
       "      <td>0</td>\n",
       "      <td>1</td>\n",
       "      <td>0</td>\n",
       "      <td>1</td>\n",
       "      <td>1</td>\n",
       "      <td>0</td>\n",
       "      <td>0</td>\n",
       "      <td>1</td>\n",
       "      <td>1</td>\n",
       "    </tr>\n",
       "    <tr>\n",
       "      <th>9996</th>\n",
       "      <td>1</td>\n",
       "      <td>1</td>\n",
       "      <td>1</td>\n",
       "      <td>0</td>\n",
       "      <td>1</td>\n",
       "      <td>0</td>\n",
       "      <td>0</td>\n",
       "      <td>0</td>\n",
       "      <td>1</td>\n",
       "      <td>0</td>\n",
       "    </tr>\n",
       "    <tr>\n",
       "      <th>9997</th>\n",
       "      <td>1</td>\n",
       "      <td>0</td>\n",
       "      <td>0</td>\n",
       "      <td>1</td>\n",
       "      <td>1</td>\n",
       "      <td>1</td>\n",
       "      <td>1</td>\n",
       "      <td>0</td>\n",
       "      <td>1</td>\n",
       "      <td>0</td>\n",
       "    </tr>\n",
       "    <tr>\n",
       "      <th>9998</th>\n",
       "      <td>1</td>\n",
       "      <td>1</td>\n",
       "      <td>1</td>\n",
       "      <td>1</td>\n",
       "      <td>1</td>\n",
       "      <td>0</td>\n",
       "      <td>1</td>\n",
       "      <td>0</td>\n",
       "      <td>0</td>\n",
       "      <td>1</td>\n",
       "    </tr>\n",
       "    <tr>\n",
       "      <th>9999</th>\n",
       "      <td>0</td>\n",
       "      <td>0</td>\n",
       "      <td>1</td>\n",
       "      <td>0</td>\n",
       "      <td>1</td>\n",
       "      <td>1</td>\n",
       "      <td>0</td>\n",
       "      <td>0</td>\n",
       "      <td>0</td>\n",
       "      <td>0</td>\n",
       "    </tr>\n",
       "  </tbody>\n",
       "</table>\n",
       "<p>10000 rows × 10 columns</p>\n",
       "</div>"
      ],
      "text/plain": [
       "      Brand_1  Brand_2  Brand_3  Brand_4  Brand_5  Brand_6  Brand_7  Brand_8  \\\n",
       "0           0        1        0        0        0        1        0        0   \n",
       "1           0        1        0        0        1        0        0        0   \n",
       "2           0        0        0        1        0        1        0        0   \n",
       "3           0        0        1        0        0        0        0        0   \n",
       "4           0        0        1        1        1        0        0        0   \n",
       "...       ...      ...      ...      ...      ...      ...      ...      ...   \n",
       "9995        1        0        1        0        1        1        0        0   \n",
       "9996        1        1        1        0        1        0        0        0   \n",
       "9997        1        0        0        1        1        1        1        0   \n",
       "9998        1        1        1        1        1        0        1        0   \n",
       "9999        0        0        1        0        1        1        0        0   \n",
       "\n",
       "      Brand_9  Brand_10  \n",
       "0           0         1  \n",
       "1           0         0  \n",
       "2           1         0  \n",
       "3           1         1  \n",
       "4           0         1  \n",
       "...       ...       ...  \n",
       "9995        1         1  \n",
       "9996        1         0  \n",
       "9997        1         0  \n",
       "9998        0         1  \n",
       "9999        0         0  \n",
       "\n",
       "[10000 rows x 10 columns]"
      ]
     },
     "execution_count": 3,
     "metadata": {},
     "output_type": "execute_result"
    }
   ],
   "source": [
    "mock_data = []\n",
    " \n",
    "for file in csv_files:\n",
    "    mock_data.append(pd.read_csv(file))\n",
    "     \n",
    "dataset = pd.concat(mock_data, ignore_index=True)\n",
    "dataset"
   ]
  },
  {
   "cell_type": "code",
   "execution_count": 4,
   "id": "15e46c65-c884-42d1-87b3-aa9ffb9cb889",
   "metadata": {},
   "outputs": [],
   "source": [
    "dataset.rename(columns = {'Brand_1':'Echo', \n",
    "                            'Brand_2':'Comfy Shoes',\n",
    "                            'Brand_3':'New Balance',\n",
    "                            'Brand_4':'Asics',\n",
    "                            'Brand_5':'Skechers',\n",
    "                            'Brand_6':'Nike',\n",
    "                            'Brand_7':'Old Balance',\n",
    "                            'Brand_8':'Nikou',\n",
    "                            'Brand_9':'Fake Asics',\n",
    "                            'Brand_10':'Craft'\n",
    "                         }, inplace = True)"
   ]
  },
  {
   "cell_type": "code",
   "execution_count": 5,
   "id": "64d9f185",
   "metadata": {},
   "outputs": [
    {
     "data": {
      "text/plain": [
       "Echo           4946\n",
       "Comfy Shoes    5046\n",
       "New Balance    4949\n",
       "Asics          5006\n",
       "Skechers       4943\n",
       "Nike           5012\n",
       "Old Balance    4918\n",
       "Nikou             0\n",
       "Fake Asics     4917\n",
       "Craft          4997\n",
       "dtype: int64"
      ]
     },
     "execution_count": 5,
     "metadata": {},
     "output_type": "execute_result"
    }
   ],
   "source": [
    "dataset.sum()"
   ]
  },
  {
   "cell_type": "markdown",
   "id": "b4f086bf",
   "metadata": {},
   "source": [
    "### Implementing Thompson Sampling"
   ]
  },
  {
   "cell_type": "markdown",
   "id": "aa46453a",
   "metadata": {},
   "source": [
    "Checks which brands have received the most clicks after 10000"
   ]
  },
  {
   "cell_type": "code",
   "execution_count": 6,
   "id": "179a641f-9f51-427e-9de2-7239e8be4127",
   "metadata": {},
   "outputs": [],
   "source": [
    "rows = 10000\n",
    "brands = 10"
   ]
  },
  {
   "cell_type": "code",
   "execution_count": 7,
   "id": "d668e5fe-3c83-45ed-aaa4-cb8edb8094d7",
   "metadata": {},
   "outputs": [],
   "source": [
    "#Return the winning index of brands\n",
    "\n",
    "def GetBrandSelected(rows, brands):\n",
    "    \n",
    "    total_reward = 0\n",
    "    brands_selected = []\n",
    "    \n",
    "    numbers_of_rewards_1 = [0] * brands\n",
    "    numbers_of_rewards_0 = [0] * brands\n",
    "    number_of_selections = [0] * brands\n",
    "    \n",
    "    for row in range(0, rows):\n",
    "      brand_selected = 0\n",
    "      max_random_value = 0\n",
    "      for i in range(0, brands):\n",
    "          random_value = random.betavariate(numbers_of_rewards_1[i] + 1, numbers_of_rewards_0[i] + 1)\n",
    "          if (random_value > max_random_value):\n",
    "              brand_selected = i\n",
    "              max_random_value = random_value\n",
    "      brands_selected.append(brand_selected)\n",
    "      number_of_selections[brand_selected] += 1     \n",
    "      reward = dataset.values[row, brand_selected]\n",
    "      if (reward == 1):\n",
    "          numbers_of_rewards_1[brand_selected] += 1\n",
    "      else:\n",
    "          numbers_of_rewards_0[brand_selected] += 1\n",
    "      total_reward += reward\n",
    "    \n",
    "    return number_of_selections.index(max(number_of_selections))"
   ]
  },
  {
   "cell_type": "code",
   "execution_count": 8,
   "id": "4a8db7d5-a8f3-47fa-88a7-3a18e8c493a8",
   "metadata": {},
   "outputs": [],
   "source": [
    "def Print(_brands_selected):\n",
    "    brands_selected = _brands_selected\n",
    "    plt.hist(brands_selected)\n",
    "    plt.title('Histogram of brands selections')\n",
    "    plt.xlabel('Brands')\n",
    "    plt.ylabel('Number of times each brand was selected')\n",
    "    plt.show()"
   ]
  },
  {
   "cell_type": "markdown",
   "id": "19aa71f7-002f-4ed7-b90d-2f8f1ef30673",
   "metadata": {},
   "source": [
    "<p> Loopa igenom GetBrandsSelected för att se om resultaten är desamma var gång. </p>"
   ]
  },
  {
   "cell_type": "code",
   "execution_count": 9,
   "id": "45fa7830-122f-44a5-8636-788e9973cf43",
   "metadata": {},
   "outputs": [
    {
     "name": "stdout",
     "output_type": "stream",
     "text": [
      "3\n",
      "2\n",
      "1\n",
      "2\n",
      "4\n",
      "3\n",
      "4\n",
      "4\n",
      "5\n",
      "2\n"
     ]
    }
   ],
   "source": [
    "for i in range(0, brands):\n",
    "    print(GetBrandSelected(rows, brands))"
   ]
  },
  {
   "cell_type": "markdown",
   "id": "a9005593-1085-4cc3-8bf9-1774601d5100",
   "metadata": {},
   "source": [
    "<p>  Det finns avvikelser i resultaten. Det beror troligtvis på att kolumnerna i datasetet är för lika. Det går inte att trolla fram mer data för mer precisa resultat. Det man kan göra dock är att köra proceduren flera gånger och addera resultaten. En array kan spara hur många gånger varje element får högst resultat.  </p>"
   ]
  },
  {
   "cell_type": "code",
   "execution_count": 10,
   "id": "8e0befa7-419e-4516-933d-ac58cdc3c2c7",
   "metadata": {},
   "outputs": [
    {
     "name": "stdout",
     "output_type": "stream",
     "text": [
      "[7, 11, 8, 9, 7, 37, 7, 0, 3, 11]\n"
     ]
    }
   ],
   "source": [
    "counter = [0] * 10 #Tom array med tio brands\n",
    "for i in range(0, 100): #Kör loopen 100 gånger\n",
    "    counter[GetBrandSelected(rows, brands)] += 1 #Öka antalet vinster vinnande index får med 1\n",
    "print(counter)"
   ]
  },
  {
   "cell_type": "markdown",
   "id": "d06f7429-2313-4267-8648-0badb2d9a9e5",
   "metadata": {},
   "source": [
    "<p> Algoritmen körs hundra gånger och det blir mer uppenbart att index 5 är dominerande och att det märket sannolikt kommer att sälja bäst. Var gång modellen körs varierar resultaten en del men kategori 5/Nike vinner var gång testet har körts.</p>"
   ]
  },
  {
   "cell_type": "code",
   "execution_count": 11,
   "id": "b03f650c-bdda-46a0-b56a-e520d2287c8e",
   "metadata": {},
   "outputs": [
    {
     "name": "stdout",
     "output_type": "stream",
     "text": [
      "             Result\n",
      "Nike             37\n",
      "Comfy Shoes      11\n",
      "Craft            11\n",
      "Asics             9\n",
      "New Balance       8\n",
      "Echo              7\n",
      "Skechers          7\n",
      "Old Balance       7\n",
      "Fake Asics        3\n",
      "Nikou             0\n"
     ]
    }
   ],
   "source": [
    "results_dataframe = pd.DataFrame({'Result': counter}, \n",
    "                                 index=[dataset.columns])\n",
    "results_dataframe = results_dataframe.sort_values(by=['Result'], ascending=False)\n",
    "print(results_dataframe)"
   ]
  }
 ],
 "metadata": {
  "kernelspec": {
   "display_name": "Python 3 (ipykernel)",
   "language": "python",
   "name": "python3"
  },
  "language_info": {
   "codemirror_mode": {
    "name": "ipython",
    "version": 3
   },
   "file_extension": ".py",
   "mimetype": "text/x-python",
   "name": "python",
   "nbconvert_exporter": "python",
   "pygments_lexer": "ipython3",
   "version": "3.9.15"
  }
 },
 "nbformat": 4,
 "nbformat_minor": 5
}
